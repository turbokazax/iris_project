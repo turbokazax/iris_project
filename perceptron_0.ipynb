{
 "cells": [
  {
   "metadata": {},
   "cell_type": "markdown",
   "source": [
    "### Motivation:\n",
    "$$ \\text{The perceptron is a model of a single neuron that can be used for two-class classification problems.}$$\n",
    "$$ \\text{The perceptron is based on the McCulloch-Pitts neuron model, which is a simplified model of a biological neuron.}$$\n",
    "### Math:\n",
    "$$\\text{Input: } x = [x_1, x_2, ..., x_m]$$\n",
    "$$\\text{Weights: } w = [w_1, w_2, ..., w_m]$$\n",
    "$$\\text{Bias: } b$$\n",
    "$$\\text{Net input: } z = \\sum_{i=1}^{m} w_ix_i + b$$\n",
    "$$\\text{Activation function: } \\sigma(z) = \\begin{cases} 1 \\text{, if } z \\geq 0 \\\\ 0 \\text{, otherwise} \\end{cases}$$\n",
    "$$\\text{Predicted output: }\\hat{y} = \\begin{cases} 1 \\text{, if } \\sigma(z) \\geq 0 \\\\ 0 \\text{, otherwise} \\end{cases}$$\n",
    "$$\\text{Error function: } E = \\frac{1}{2} (y - \\hat{y})^2$$\n",
    "$$\\text{Gradient of the error function: } \\nabla E = -(y - \\hat{y}) \\cdot \\nabla \\sigma(z)$$\n",
    "$$\\text{Update rule: } w_i = w_i + \\eta \\cdot (y - \\hat{y}) \\cdot x_i$$\n",
    "$$\\text{Bias update rule: } b = b + \\eta \\cdot (y - \\hat{y})$$\n",
    "$$\\text{where } \\eta - \\text{learning rate}$$"
   ],
   "id": "b9d6718ebc1ac131"
  },
  {
   "metadata": {},
   "cell_type": "markdown",
   "source": "### Initializing Perceptron class:",
   "id": "e206ca73b2874805"
  },
  {
   "metadata": {
    "ExecuteTime": {
     "end_time": "2024-04-23T10:58:37.755957Z",
     "start_time": "2024-04-23T10:58:36.658247Z"
    }
   },
   "cell_type": "code",
   "source": [
    "import numpy as np\n",
    "import matplotlib.pyplot as plt"
   ],
   "id": "initial_id",
   "outputs": [],
   "execution_count": 1
  },
  {
   "metadata": {
    "ExecuteTime": {
     "end_time": "2024-04-19T09:32:08.324231Z",
     "start_time": "2024-04-19T09:32:08.308519Z"
    }
   },
   "cell_type": "code",
   "source": [
    "class Perceptron:\n",
    "    \"\"\"Perceptron classifier.\n",
    "\n",
    "   Parameters\n",
    "   ------------\n",
    "   eta : float\n",
    "     Learning rate (between 0.0 and 1.0)\n",
    "   n_iter : int\n",
    "     Passes over the training dataset.\n",
    "   random_state : int\n",
    "     Random number generator seed for random weight\n",
    "     initialization.\n",
    "\n",
    "   Attributes\n",
    "   -----------\n",
    "   w_ : 1d-array\n",
    "     Weights after fitting.\n",
    "   b_ : Scalar\n",
    "     Bias unit after fitting.\n",
    "   errors_ : list\n",
    "     Number of misclassifications (updates) in each epoch.\n",
    "\n",
    "   \"\"\"\n",
    "\n",
    "    def __init__(self, eta=0.01, n_iter=50, random_state=1):\n",
    "        self.eta = eta\n",
    "        self.n_iter = n_iter\n",
    "        self.random_state = random_state\n",
    "\n",
    "    def fit(self, X: np.ndarray, y: np.ndarray):\n",
    "        \"\"\"Fit training data.\n",
    "\n",
    "        Parameters\n",
    "        ----------\n",
    "        X : {array-like}, shape = [n_examples, n_features]\n",
    "          Training vectors, where n_examples is the number of examples and\n",
    "          n_features is the number of features.\n",
    "        y : array-like, shape = [n_examples]\n",
    "          Target values.\n",
    "\n",
    "        Returns\n",
    "        -------\n",
    "        self : object\n",
    "\n",
    "        \"\"\"\n",
    "\n",
    "        # Initialize the random weights to a random normal distribution with mean 0 and standard deviation 0.01:\n",
    "        rgen = np.random.RandomState(self.random_state)\n",
    "        self.w_ = rgen.normal(loc=0.0, scale=0.01, size=X.shape[1])\n",
    "        self.b_ = np.float_(0.)\n",
    "\n",
    "        # Initialize the errors_ list to store the number of misclassifications in each epoch:\n",
    "        self.errors_ = []\n",
    "\n",
    "        # Loop through the number of iterations (n_iter) to train the perceptron:\n",
    "        for _ in range(self.n_iter):\n",
    "            errors = 0\n",
    "            for xi, target in zip(X, y):\n",
    "                update = self.eta * (target - self.predict(xi))\n",
    "                self.w_ += update * xi\n",
    "                self.b_ += update\n",
    "                errors += int(update != 0.0)\n",
    "            self.errors_.append(errors)\n",
    "        return self\n",
    "\n",
    "    def net_input(self, X: np.ndarray) -> np.ndarray:\n",
    "        \"\"\"Calculate net input\"\"\"\n",
    "        return np.dot(X, self.w_) + self.b_\n",
    "\n",
    "    def predict(self, X):\n",
    "        \"\"\" Return class label after unit step \"\"\"\n",
    "        return np.where(self.net_input(X) >= 0.0, 1, 0)\n",
    "        "
   ],
   "id": "329530ca2d9dff8",
   "outputs": [],
   "execution_count": 2
  },
  {
   "metadata": {},
   "cell_type": "markdown",
   "source": "## Training the perceptron model on the Iris dataset:",
   "id": "1c9fe48cff1829a3"
  },
  {
   "metadata": {
    "ExecuteTime": {
     "end_time": "2024-04-19T09:32:11.933730Z",
     "start_time": "2024-04-19T09:32:08.327255Z"
    }
   },
   "cell_type": "code",
   "source": "import pandas as pd",
   "id": "54207016f3483f21",
   "outputs": [],
   "execution_count": 3
  },
  {
   "metadata": {
    "ExecuteTime": {
     "end_time": "2024-04-19T09:32:13.030330Z",
     "start_time": "2024-04-19T09:32:11.936746Z"
    }
   },
   "cell_type": "code",
   "source": [
    "df = pd.read_csv('https://archive.ics.uci.edu/ml/machine-learning-databases/iris/iris.data', header=None)\n",
    "df.columns = ['sepal length', 'sepal width', 'petal length', 'petal width', 'class']\n",
    "df.head()"
   ],
   "id": "9761f3f3c4396a14",
   "outputs": [
    {
     "data": {
      "text/plain": [
       "   sepal length  sepal width  petal length  petal width        class\n",
       "0           5.1          3.5           1.4          0.2  Iris-setosa\n",
       "1           4.9          3.0           1.4          0.2  Iris-setosa\n",
       "2           4.7          3.2           1.3          0.2  Iris-setosa\n",
       "3           4.6          3.1           1.5          0.2  Iris-setosa\n",
       "4           5.0          3.6           1.4          0.2  Iris-setosa"
      ],
      "text/html": [
       "<div>\n",
       "<style scoped>\n",
       "    .dataframe tbody tr th:only-of-type {\n",
       "        vertical-align: middle;\n",
       "    }\n",
       "\n",
       "    .dataframe tbody tr th {\n",
       "        vertical-align: top;\n",
       "    }\n",
       "\n",
       "    .dataframe thead th {\n",
       "        text-align: right;\n",
       "    }\n",
       "</style>\n",
       "<table border=\"1\" class=\"dataframe\">\n",
       "  <thead>\n",
       "    <tr style=\"text-align: right;\">\n",
       "      <th></th>\n",
       "      <th>sepal length</th>\n",
       "      <th>sepal width</th>\n",
       "      <th>petal length</th>\n",
       "      <th>petal width</th>\n",
       "      <th>class</th>\n",
       "    </tr>\n",
       "  </thead>\n",
       "  <tbody>\n",
       "    <tr>\n",
       "      <th>0</th>\n",
       "      <td>5.1</td>\n",
       "      <td>3.5</td>\n",
       "      <td>1.4</td>\n",
       "      <td>0.2</td>\n",
       "      <td>Iris-setosa</td>\n",
       "    </tr>\n",
       "    <tr>\n",
       "      <th>1</th>\n",
       "      <td>4.9</td>\n",
       "      <td>3.0</td>\n",
       "      <td>1.4</td>\n",
       "      <td>0.2</td>\n",
       "      <td>Iris-setosa</td>\n",
       "    </tr>\n",
       "    <tr>\n",
       "      <th>2</th>\n",
       "      <td>4.7</td>\n",
       "      <td>3.2</td>\n",
       "      <td>1.3</td>\n",
       "      <td>0.2</td>\n",
       "      <td>Iris-setosa</td>\n",
       "    </tr>\n",
       "    <tr>\n",
       "      <th>3</th>\n",
       "      <td>4.6</td>\n",
       "      <td>3.1</td>\n",
       "      <td>1.5</td>\n",
       "      <td>0.2</td>\n",
       "      <td>Iris-setosa</td>\n",
       "    </tr>\n",
       "    <tr>\n",
       "      <th>4</th>\n",
       "      <td>5.0</td>\n",
       "      <td>3.6</td>\n",
       "      <td>1.4</td>\n",
       "      <td>0.2</td>\n",
       "      <td>Iris-setosa</td>\n",
       "    </tr>\n",
       "  </tbody>\n",
       "</table>\n",
       "</div>"
      ]
     },
     "execution_count": 4,
     "metadata": {},
     "output_type": "execute_result"
    }
   ],
   "execution_count": 4
  },
  {
   "metadata": {},
   "cell_type": "code",
   "outputs": [],
   "execution_count": null,
   "source": [
    "%matplotlib inline\n",
    "\n",
    "# Select setosa and versicolor:\n",
    "y = df.iloc[0:100, 4].values\n",
    "y = np.where(y == \"Iris-setosa\", 0, 1)\n",
    "\n",
    "# Extract sepal length and petal length:\n",
    "X = df.iloc[0:100, [0, 2]]\n",
    "X"
   ],
   "id": "85a1214ab4403edf"
  },
  {
   "metadata": {},
   "cell_type": "code",
   "outputs": [],
   "execution_count": null,
   "source": "# Plot data\n",
   "id": "baed484bf18664d3"
  }
 ],
 "metadata": {
  "kernelspec": {
   "display_name": "Python 3",
   "language": "python",
   "name": "python3"
  },
  "language_info": {
   "codemirror_mode": {
    "name": "ipython",
    "version": 2
   },
   "file_extension": ".py",
   "mimetype": "text/x-python",
   "name": "python",
   "nbconvert_exporter": "python",
   "pygments_lexer": "ipython2",
   "version": "2.7.6"
  }
 },
 "nbformat": 4,
 "nbformat_minor": 5
}
