{
 "cells": [
  {
   "cell_type": "code",
   "id": "initial_id",
   "metadata": {
    "collapsed": true,
    "ExecuteTime": {
     "end_time": "2024-04-18T19:17:11.546430Z",
     "start_time": "2024-04-18T19:17:11.153492Z"
    }
   },
   "source": [
    "import numpy as np\n",
    "import matplotlib.pyplot as plt"
   ],
   "outputs": [],
   "execution_count": 1
  },
  {
   "metadata": {
    "ExecuteTime": {
     "end_time": "2024-04-18T20:17:41.451995Z",
     "start_time": "2024-04-18T20:17:41.437925Z"
    }
   },
   "cell_type": "code",
   "source": [
    "class Perceptron:\n",
    "    \"\"\"Perceptron classifier.\n",
    "\n",
    "   Parameters\n",
    "   ------------\n",
    "   eta : float\n",
    "     Learning rate (between 0.0 and 1.0)\n",
    "   n_iter : int\n",
    "     Passes over the training dataset.\n",
    "   random_state : int\n",
    "     Random number generator seed for random weight\n",
    "     initialization.\n",
    "\n",
    "   Attributes\n",
    "   -----------\n",
    "   w_ : 1d-array\n",
    "     Weights after fitting.\n",
    "   b_ : Scalar\n",
    "     Bias unit after fitting.\n",
    "   errors_ : list\n",
    "     Number of misclassifications (updates) in each epoch.\n",
    "\n",
    "   \"\"\"\n",
    "\n",
    "    def __init__(self, eta=0.01, n_iter=50, random_state=1):\n",
    "        self.eta = eta\n",
    "        self.n_iter = n_iter\n",
    "        self.random_state = random_state\n",
    "\n",
    "    def fit(self, X: np.ndarray, y: np.ndarray):\n",
    "        \"\"\"Fit training data.\n",
    "\n",
    "        Parameters\n",
    "        ----------\n",
    "        X : {array-like}, shape = [n_examples, n_features]\n",
    "          Training vectors, where n_examples is the number of examples and\n",
    "          n_features is the number of features.\n",
    "        y : array-like, shape = [n_examples]\n",
    "          Target values.\n",
    "\n",
    "        Returns\n",
    "        -------\n",
    "        self : object\n",
    "\n",
    "        \"\"\"\n",
    "        \n",
    "        # Generate random values of Weights (w_) and Bias Unit (b_) for the initial run of the perceptron's training:\n",
    "        rgen = np.random.RandomState(self.random_state)\n",
    "        self.w_ = rgen.normal(loc=0.0, scale = 0.01, size = X.shape[1])\n",
    "        self.b_ = np.float_(0.)\n",
    "        "
   ],
   "id": "329530ca2d9dff8",
   "outputs": [],
   "execution_count": 2
  }
 ],
 "metadata": {
  "kernelspec": {
   "display_name": "Python 3",
   "language": "python",
   "name": "python3"
  },
  "language_info": {
   "codemirror_mode": {
    "name": "ipython",
    "version": 2
   },
   "file_extension": ".py",
   "mimetype": "text/x-python",
   "name": "python",
   "nbconvert_exporter": "python",
   "pygments_lexer": "ipython2",
   "version": "2.7.6"
  }
 },
 "nbformat": 4,
 "nbformat_minor": 5
}
